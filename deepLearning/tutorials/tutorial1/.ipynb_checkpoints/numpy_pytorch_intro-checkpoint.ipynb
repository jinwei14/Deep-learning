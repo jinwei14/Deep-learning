{
 "cells": [
  {
   "cell_type": "markdown",
   "metadata": {},
   "source": [
    "# Introduction to NumPy and PyTorch"
   ]
  },
  {
   "cell_type": "markdown",
   "metadata": {},
   "source": [
    "Numpy is a widely used Python library for scientific computing with\n",
    "multidimensional arrays."
   ]
  },
  {
   "cell_type": "markdown",
   "metadata": {},
   "source": [
    "PyTorch is an increasingly popular library used for Deep Learning research and applications. It is similar to numpy in that it is built around the manipulation of multidimensional arrays, but with a few additional features:\n",
    "* GPU support\n",
    "* Automatic differentiation\n",
    "* Other utilities to facilitate building and training neural network"
   ]
  },
  {
   "cell_type": "markdown",
   "metadata": {},
   "source": [
    "This notebook will cover some of the essential features of NumPy and PyTorch. Examples from each framework will be presented side-by-side to highlight the similarities (and occasional differences) between their APIs.\n",
    "\n",
    "In particular, we will first explore some of the core operations involving the central data structures in each library, the NumPy `ndarray` and the PyTorch `Tensor`.\n",
    "\n",
    "Finally, we will look at the basics of automatic differentiation in PyTorch.\n",
    "\n",
    "The official documentation is a good place to learn more:\n",
    "* https://docs.scipy.org/doc/numpy/user/index.html\n",
    "* https://pytorch.org/docs/stable/index.html\n",
    "* https://pytorch.org/tutorials/"
   ]
  },
  {
   "cell_type": "code",
   "execution_count": 1,
   "metadata": {},
   "outputs": [
    {
     "data": {
      "text/plain": [
       "<torch._C.Generator at 0x1070c2cf0>"
      ]
     },
     "execution_count": 1,
     "metadata": {},
     "output_type": "execute_result"
    }
   ],
   "source": [
    "import numpy as np\n",
    "import torch\n",
    "\n",
    "np.random.seed(0)\n",
    "torch.manual_seed(1)"
   ]
  },
  {
   "cell_type": "markdown",
   "metadata": {},
   "source": [
    "### Creating arrays"
   ]
  },
  {
   "cell_type": "markdown",
   "metadata": {},
   "source": [
    "##### From list"
   ]
  },
  {
   "cell_type": "code",
   "execution_count": 2,
   "metadata": {},
   "outputs": [
    {
     "data": {
      "text/plain": [
       "array([1, 2, 3])"
      ]
     },
     "execution_count": 2,
     "metadata": {},
     "output_type": "execute_result"
    }
   ],
   "source": [
    "a = np.array([1, 2, 3])\n",
    "a"
   ]
  },
  {
   "cell_type": "code",
   "execution_count": 3,
   "metadata": {},
   "outputs": [
    {
     "data": {
      "text/plain": [
       "tensor([1., 2., 3.])"
      ]
     },
     "execution_count": 3,
     "metadata": {},
     "output_type": "execute_result"
    }
   ],
   "source": [
    "a_ = torch.Tensor([1, 2, 3])\n",
    "a_"
   ]
  },
  {
   "cell_type": "code",
   "execution_count": 4,
   "metadata": {},
   "outputs": [
    {
     "data": {
      "text/plain": [
       "tensor([1, 2, 3])"
      ]
     },
     "execution_count": 4,
     "metadata": {},
     "output_type": "execute_result"
    }
   ],
   "source": [
    "a_long = torch.LongTensor([1, 2, 3])\n",
    "a_long"
   ]
  },
  {
   "cell_type": "markdown",
   "metadata": {},
   "source": [
    "#### Empty array"
   ]
  },
  {
   "cell_type": "code",
   "execution_count": 5,
   "metadata": {},
   "outputs": [
    {
     "data": {
      "text/plain": [
       "array([[-1.28822975e-231, -1.28822975e-231],\n",
       "       [ 3.45845952e-323,  0.00000000e+000],\n",
       "       [ 0.00000000e+000,  0.00000000e+000]])"
      ]
     },
     "execution_count": 5,
     "metadata": {},
     "output_type": "execute_result"
    }
   ],
   "source": [
    "b = np.empty((3, 2))\n",
    "b"
   ]
  },
  {
   "cell_type": "code",
   "execution_count": 6,
   "metadata": {},
   "outputs": [
    {
     "data": {
      "text/plain": [
       "tensor([[ 0.0000e+00, -2.5244e-29],\n",
       "        [-3.1424e+03, -2.8657e-42],\n",
       "        [ 4.0132e+13,  4.5867e-41]])"
      ]
     },
     "execution_count": 6,
     "metadata": {},
     "output_type": "execute_result"
    }
   ],
   "source": [
    "b_ = torch.empty((3, 2))\n",
    "b_"
   ]
  },
  {
   "cell_type": "markdown",
   "metadata": {},
   "source": [
    "#### Zeroes"
   ]
  },
  {
   "cell_type": "code",
   "execution_count": 7,
   "metadata": {},
   "outputs": [
    {
     "data": {
      "text/plain": [
       "array([[0., 0., 0.],\n",
       "       [0., 0., 0.]])"
      ]
     },
     "execution_count": 7,
     "metadata": {},
     "output_type": "execute_result"
    }
   ],
   "source": [
    "c = np.zeros((2, 3))\n",
    "c"
   ]
  },
  {
   "cell_type": "code",
   "execution_count": 8,
   "metadata": {},
   "outputs": [
    {
     "data": {
      "text/plain": [
       "tensor([[0., 0., 0.],\n",
       "        [0., 0., 0.]])"
      ]
     },
     "execution_count": 8,
     "metadata": {},
     "output_type": "execute_result"
    }
   ],
   "source": [
    "c_ = torch.zeros((2, 3))\n",
    "c_"
   ]
  },
  {
   "cell_type": "markdown",
   "metadata": {},
   "source": [
    "#### Ones"
   ]
  },
  {
   "cell_type": "code",
   "execution_count": 9,
   "metadata": {},
   "outputs": [
    {
     "data": {
      "text/plain": [
       "array([1., 1., 1.])"
      ]
     },
     "execution_count": 9,
     "metadata": {},
     "output_type": "execute_result"
    }
   ],
   "source": [
    "d = np.ones(3)\n",
    "d"
   ]
  },
  {
   "cell_type": "code",
   "execution_count": 10,
   "metadata": {},
   "outputs": [
    {
     "data": {
      "text/plain": [
       "tensor([1., 1., 1.])"
      ]
     },
     "execution_count": 10,
     "metadata": {},
     "output_type": "execute_result"
    }
   ],
   "source": [
    "d_ = torch.ones(3)\n",
    "d_"
   ]
  },
  {
   "cell_type": "markdown",
   "metadata": {},
   "source": [
    "#### Samples from Uniform[0,1]"
   ]
  },
  {
   "cell_type": "code",
   "execution_count": 11,
   "metadata": {},
   "outputs": [
    {
     "data": {
      "text/plain": [
       "array([[0.5488135 , 0.71518937, 0.60276338],\n",
       "       [0.54488318, 0.4236548 , 0.64589411]])"
      ]
     },
     "execution_count": 11,
     "metadata": {},
     "output_type": "execute_result"
    }
   ],
   "source": [
    "e = np.random.random((2, 3))\n",
    "e"
   ]
  },
  {
   "cell_type": "code",
   "execution_count": 12,
   "metadata": {},
   "outputs": [
    {
     "data": {
      "text/plain": [
       "tensor([[0.7576, 0.2793, 0.4031],\n",
       "        [0.7347, 0.0293, 0.7999]])"
      ]
     },
     "execution_count": 12,
     "metadata": {},
     "output_type": "execute_result"
    }
   ],
   "source": [
    "e_ = torch.rand((2, 3))\n",
    "e_"
   ]
  },
  {
   "cell_type": "markdown",
   "metadata": {},
   "source": [
    "### Basic properties"
   ]
  },
  {
   "cell_type": "markdown",
   "metadata": {},
   "source": [
    "#### Shape"
   ]
  },
  {
   "cell_type": "code",
   "execution_count": 13,
   "metadata": {},
   "outputs": [
    {
     "name": "stdout",
     "output_type": "stream",
     "text": [
      "[[-1.28822975e-231 -1.28822975e-231]\n",
      " [ 3.45845952e-323  0.00000000e+000]\n",
      " [ 0.00000000e+000  0.00000000e+000]]\n"
     ]
    },
    {
     "data": {
      "text/plain": [
       "(3, 2)"
      ]
     },
     "execution_count": 13,
     "metadata": {},
     "output_type": "execute_result"
    }
   ],
   "source": [
    "print(b)\n",
    "b.shape"
   ]
  },
  {
   "cell_type": "code",
   "execution_count": 14,
   "metadata": {},
   "outputs": [
    {
     "name": "stdout",
     "output_type": "stream",
     "text": [
      "tensor([[ 0.0000e+00, -2.5244e-29],\n",
      "        [-3.1424e+03, -2.8657e-42],\n",
      "        [ 4.0132e+13,  4.5867e-41]])\n"
     ]
    },
    {
     "data": {
      "text/plain": [
       "torch.Size([3, 2])"
      ]
     },
     "execution_count": 14,
     "metadata": {},
     "output_type": "execute_result"
    }
   ],
   "source": [
    "print(b_)\n",
    "b_.shape"
   ]
  },
  {
   "cell_type": "markdown",
   "metadata": {},
   "source": [
    "#### dtype"
   ]
  },
  {
   "cell_type": "code",
   "execution_count": 15,
   "metadata": {},
   "outputs": [
    {
     "name": "stdout",
     "output_type": "stream",
     "text": [
      "int64\n",
      "float64\n"
     ]
    }
   ],
   "source": [
    "print(a.dtype)\n",
    "print(e.dtype)"
   ]
  },
  {
   "cell_type": "code",
   "execution_count": 16,
   "metadata": {},
   "outputs": [
    {
     "name": "stdout",
     "output_type": "stream",
     "text": [
      "torch.int64\n",
      "torch.float32\n"
     ]
    }
   ],
   "source": [
    "print(a_long.dtype)\n",
    "print(e_.dtype)"
   ]
  },
  {
   "cell_type": "markdown",
   "metadata": {},
   "source": [
    "### Indexing"
   ]
  },
  {
   "cell_type": "markdown",
   "metadata": {},
   "source": [
    "#### Integer indexing"
   ]
  },
  {
   "cell_type": "code",
   "execution_count": 17,
   "metadata": {},
   "outputs": [
    {
     "name": "stdout",
     "output_type": "stream",
     "text": [
      "[[-1.28822975e-231 -1.28822975e-231]\n",
      " [ 3.45845952e-323  0.00000000e+000]\n",
      " [ 0.00000000e+000  0.00000000e+000]]\n",
      "[-1.28822975e-231 -1.28822975e-231]\n",
      "-1.2882297539194267e-231\n"
     ]
    }
   ],
   "source": [
    "print(b)\n",
    "print(b[0])\n",
    "print(b[0, 0])"
   ]
  },
  {
   "cell_type": "code",
   "execution_count": 18,
   "metadata": {},
   "outputs": [
    {
     "name": "stdout",
     "output_type": "stream",
     "text": [
      "tensor([[ 0.0000e+00, -2.5244e-29],\n",
      "        [-3.1424e+03, -2.8657e-42],\n",
      "        [ 4.0132e+13,  4.5867e-41]])\n",
      "tensor([ 0.0000e+00, -2.5244e-29])\n",
      "tensor([-3.1424e+03, -2.8657e-42])\n",
      "tensor(0.)\n"
     ]
    }
   ],
   "source": [
    "print(b_)\n",
    "print(b_[0])\n",
    "print(b_[1])\n",
    "print(b_[0, 0])"
   ]
  },
  {
   "cell_type": "markdown",
   "metadata": {},
   "source": [
    "#### Slicing"
   ]
  },
  {
   "cell_type": "code",
   "execution_count": 19,
   "metadata": {},
   "outputs": [
    {
     "name": "stdout",
     "output_type": "stream",
     "text": [
      "[[-1.28822975e-231 -1.28822975e-231]\n",
      " [ 3.45845952e-323  0.00000000e+000]\n",
      " [ 0.00000000e+000  0.00000000e+000]]\n",
      "\n",
      "[[-1.28822975e-231 -1.28822975e-231]\n",
      " [ 3.45845952e-323  0.00000000e+000]]\n",
      "[[0. 0.]]\n",
      "[[3.5e-323 0.0e+000]\n",
      " [0.0e+000 0.0e+000]]\n",
      "[[-1.28822975e-231]\n",
      " [ 3.45845952e-323]\n",
      " [ 0.00000000e+000]]\n",
      "[[-1.28822975e-231 -1.28822975e-231]\n",
      " [ 3.45845952e-323  0.00000000e+000]]\n"
     ]
    }
   ],
   "source": [
    "print(b)\n",
    "print()\n",
    "print(b[:2])\n",
    "print(b[2:])\n",
    "print(b[1:3])\n",
    "print(b[:, :1])\n",
    "print(b[:2, :2])"
   ]
  },
  {
   "cell_type": "code",
   "execution_count": 20,
   "metadata": {},
   "outputs": [
    {
     "name": "stdout",
     "output_type": "stream",
     "text": [
      "tensor([[ 0.0000e+00, -2.5244e-29],\n",
      "        [-3.1424e+03, -2.8657e-42]])\n",
      "tensor([[-3.1424e+03, -2.8657e-42],\n",
      "        [ 4.0132e+13,  4.5867e-41]])\n",
      "tensor([[ 0.0000e+00],\n",
      "        [-3.1424e+03],\n",
      "        [ 4.0132e+13]])\n",
      "tensor([[ 0.0000e+00, -2.5244e-29],\n",
      "        [-3.1424e+03, -2.8657e-42]])\n"
     ]
    }
   ],
   "source": [
    "print(b_[:2])\n",
    "print(b_[1:3])\n",
    "print(b_[:, :1])\n",
    "print(b_[:2, :2])"
   ]
  },
  {
   "cell_type": "markdown",
   "metadata": {},
   "source": [
    "#### Boolean indexing"
   ]
  },
  {
   "cell_type": "code",
   "execution_count": 21,
   "metadata": {},
   "outputs": [
    {
     "name": "stdout",
     "output_type": "stream",
     "text": [
      "[1 2 3]\n",
      "\n",
      "[False  True  True]\n",
      "[2 3]\n"
     ]
    }
   ],
   "source": [
    "print(a)\n",
    "print()\n",
    "idx = a >= 2\n",
    "print(idx)\n",
    "print(a[idx])"
   ]
  },
  {
   "cell_type": "code",
   "execution_count": 22,
   "metadata": {},
   "outputs": [
    {
     "name": "stdout",
     "output_type": "stream",
     "text": [
      "tensor([0, 1, 1], dtype=torch.uint8)\n",
      "tensor([2., 3.])\n"
     ]
    }
   ],
   "source": [
    "idx_ = a_ >= 2\n",
    "print(idx_)\n",
    "print(a_[idx_])"
   ]
  },
  {
   "cell_type": "markdown",
   "metadata": {},
   "source": [
    "### Mathematical operations"
   ]
  },
  {
   "cell_type": "markdown",
   "metadata": {},
   "source": [
    "#### Sum"
   ]
  },
  {
   "cell_type": "code",
   "execution_count": 23,
   "metadata": {},
   "outputs": [
    {
     "name": "stdout",
     "output_type": "stream",
     "text": [
      "[[0.5488135  0.71518937 0.60276338]\n",
      " [0.54488318 0.4236548  0.64589411]]\n",
      "\n",
      "3.481198341773846\n",
      "3.481198341773846\n",
      "[1.09369669 1.13884417 1.24865749]\n"
     ]
    }
   ],
   "source": [
    "print(e)\n",
    "print()\n",
    "print(e.sum())\n",
    "print(np.sum(e))\n",
    "print(e.sum(axis=0))"
   ]
  },
  {
   "cell_type": "code",
   "execution_count": 24,
   "metadata": {},
   "outputs": [
    {
     "name": "stdout",
     "output_type": "stream",
     "text": [
      "tensor([[0.7576, 0.2793, 0.4031],\n",
      "        [0.7347, 0.0293, 0.7999]])\n",
      "\n",
      "tensor(3.0038)\n",
      "tensor(3.0038)\n",
      "tensor([1.4923, 0.3086, 1.2029])\n"
     ]
    }
   ],
   "source": [
    "print(e_)\n",
    "print()\n",
    "print(e_.sum())\n",
    "print(torch.sum(e_))\n",
    "print(e_.sum(dim=0))"
   ]
  },
  {
   "cell_type": "markdown",
   "metadata": {},
   "source": [
    "#### Elementwise sum"
   ]
  },
  {
   "cell_type": "code",
   "execution_count": 25,
   "metadata": {},
   "outputs": [
    {
     "name": "stdout",
     "output_type": "stream",
     "text": [
      "[1 2 3]\n",
      "[1. 1. 1.]\n",
      "\n",
      "[2. 3. 4.]\n"
     ]
    }
   ],
   "source": [
    "print(a)\n",
    "print(d)\n",
    "print()\n",
    "print(a + d)"
   ]
  },
  {
   "cell_type": "code",
   "execution_count": 26,
   "metadata": {},
   "outputs": [
    {
     "name": "stdout",
     "output_type": "stream",
     "text": [
      "tensor([1., 2., 3.])\n",
      "tensor([1., 1., 1.])\n",
      "\n",
      "tensor([2., 3., 4.])\n"
     ]
    }
   ],
   "source": [
    "print(a_)\n",
    "print(d_)\n",
    "print()\n",
    "print(a_ + d_)"
   ]
  },
  {
   "cell_type": "markdown",
   "metadata": {},
   "source": [
    "#### Elementwise multiplication"
   ]
  },
  {
   "cell_type": "code",
   "execution_count": 27,
   "metadata": {},
   "outputs": [
    {
     "name": "stdout",
     "output_type": "stream",
     "text": [
      "[1 2 3]\n",
      "[1. 1. 1.]\n",
      "\n",
      "[1. 2. 3.]\n"
     ]
    }
   ],
   "source": [
    "print(a)\n",
    "print(d)\n",
    "print()\n",
    "print(a * d)"
   ]
  },
  {
   "cell_type": "code",
   "execution_count": 28,
   "metadata": {},
   "outputs": [
    {
     "name": "stdout",
     "output_type": "stream",
     "text": [
      "tensor([1., 2., 3.])\n",
      "tensor([1., 1., 1.])\n",
      "\n",
      "tensor([1., 2., 3.])\n"
     ]
    }
   ],
   "source": [
    "print(a_)\n",
    "print(d_)\n",
    "print()\n",
    "print(a_ * d_)"
   ]
  },
  {
   "cell_type": "markdown",
   "metadata": {},
   "source": [
    "#### Dot product"
   ]
  },
  {
   "cell_type": "code",
   "execution_count": 29,
   "metadata": {},
   "outputs": [
    {
     "name": "stdout",
     "output_type": "stream",
     "text": [
      "[1 2 3]\n",
      "[1. 1. 1.]\n",
      "\n",
      "6.0\n",
      "6.0\n"
     ]
    }
   ],
   "source": [
    "print(a)\n",
    "print(d)\n",
    "print()\n",
    "print(np.dot(a, d))\n",
    "print(a.dot(d))"
   ]
  },
  {
   "cell_type": "code",
   "execution_count": 30,
   "metadata": {},
   "outputs": [
    {
     "name": "stdout",
     "output_type": "stream",
     "text": [
      "tensor([1., 2., 3.])\n",
      "tensor([1., 1., 1.])\n",
      "\n",
      "tensor(6.)\n",
      "tensor(6.)\n"
     ]
    }
   ],
   "source": [
    "print(a_)\n",
    "print(d_)\n",
    "print()\n",
    "print(torch.dot(a_, d_))\n",
    "print(a_.dot(d_))"
   ]
  },
  {
   "cell_type": "markdown",
   "metadata": {},
   "source": [
    "#### Matrix multiplication"
   ]
  },
  {
   "cell_type": "code",
   "execution_count": 31,
   "metadata": {},
   "outputs": [
    {
     "name": "stdout",
     "output_type": "stream",
     "text": [
      "[1 2 3]\n",
      "[[-1.28822975e-231 -1.28822975e-231]\n",
      " [ 3.45845952e-323  0.00000000e+000]\n",
      " [ 0.00000000e+000  0.00000000e+000]]\n",
      "\n",
      "[-1.28822975e-231 -1.28822975e-231]\n"
     ]
    }
   ],
   "source": [
    "print(a)\n",
    "print(b)\n",
    "print()\n",
    "print(np.matmul(a, b))"
   ]
  },
  {
   "cell_type": "code",
   "execution_count": 32,
   "metadata": {},
   "outputs": [
    {
     "name": "stdout",
     "output_type": "stream",
     "text": [
      "tensor([1., 2., 3.])\n",
      "tensor([[ 0.0000e+00, -2.5244e-29],\n",
      "        [-3.1424e+03, -2.8657e-42],\n",
      "        [ 4.0132e+13,  4.5867e-41]])\n",
      "\n",
      "tensor([ 1.2040e+14, -2.5244e-29])\n",
      "tensor([ 1.2040e+14, -2.5244e-29])\n"
     ]
    }
   ],
   "source": [
    "print(a_)\n",
    "print(b_)\n",
    "print()\n",
    "print(torch.matmul(a_, b_))\n",
    "print(a_ @ b_)"
   ]
  },
  {
   "cell_type": "markdown",
   "metadata": {},
   "source": [
    "### Broadcasting"
   ]
  },
  {
   "cell_type": "markdown",
   "metadata": {},
   "source": [
    "#### Compatible shapes"
   ]
  },
  {
   "cell_type": "code",
   "execution_count": 33,
   "metadata": {},
   "outputs": [
    {
     "name": "stdout",
     "output_type": "stream",
     "text": [
      "tensor([[[0.3971, 0.7544, 0.5695]],\n",
      "\n",
      "        [[0.4388, 0.6387, 0.5247]]])\n",
      "tensor([[1., 1., 1.],\n",
      "        [1., 1., 1.],\n",
      "        [1., 1., 1.]])\n"
     ]
    }
   ],
   "source": [
    "f = torch.rand((2, 1, 3))\n",
    "g = torch.ones((3, 3))\n",
    "print(f)\n",
    "print(g)"
   ]
  },
  {
   "cell_type": "code",
   "execution_count": 34,
   "metadata": {},
   "outputs": [
    {
     "name": "stdout",
     "output_type": "stream",
     "text": [
      "tensor([[[0.3971, 0.7544, 0.5695]],\n",
      "\n",
      "        [[0.4388, 0.6387, 0.5247]]])\n",
      "tensor([[1., 1., 1.],\n",
      "        [1., 1., 1.],\n",
      "        [1., 1., 1.]])\n",
      "\n",
      "tensor([[[1.3971, 1.7544, 1.5695],\n",
      "         [1.3971, 1.7544, 1.5695],\n",
      "         [1.3971, 1.7544, 1.5695]],\n",
      "\n",
      "        [[1.4388, 1.6387, 1.5247],\n",
      "         [1.4388, 1.6387, 1.5247],\n",
      "         [1.4388, 1.6387, 1.5247]]])\n",
      "tensor([[[0.3971, 0.7544, 0.5695],\n",
      "         [0.3971, 0.7544, 0.5695],\n",
      "         [0.3971, 0.7544, 0.5695]],\n",
      "\n",
      "        [[0.4388, 0.6387, 0.5247],\n",
      "         [0.4388, 0.6387, 0.5247],\n",
      "         [0.4388, 0.6387, 0.5247]]])\n",
      "torch.Size([2, 3, 3])\n",
      "torch.Size([2, 3, 3])\n"
     ]
    }
   ],
   "source": [
    "print(f)\n",
    "print(g)\n",
    "print()\n",
    "print(f + g)\n",
    "print(f * g)\n",
    "\n",
    "print((f + g).shape)\n",
    "print((f * g).shape)"
   ]
  },
  {
   "cell_type": "code",
   "execution_count": 35,
   "metadata": {},
   "outputs": [
    {
     "name": "stdout",
     "output_type": "stream",
     "text": [
      "torch.Size([2, 1, 3])\n",
      "torch.Size([3, 3])\n"
     ]
    },
    {
     "data": {
      "text/plain": [
       "tensor([[[1.7210, 1.7210, 1.7210]],\n",
       "\n",
       "        [[1.6021, 1.6021, 1.6021]]])"
      ]
     },
     "execution_count": 35,
     "metadata": {},
     "output_type": "execute_result"
    }
   ],
   "source": [
    "# print((1 + g).shape)\n",
    "# print((4 * g).shape)\n",
    "# print((f + g).shape)\n",
    "# print((f * g).shape)\n",
    "\n",
    "print(f.shape)\n",
    "print(g.shape)\n",
    "f @ g\n",
    "# (f @ g).shape"
   ]
  },
  {
   "cell_type": "markdown",
   "metadata": {},
   "source": [
    "#### Incompatible shapes"
   ]
  },
  {
   "cell_type": "code",
   "execution_count": 36,
   "metadata": {},
   "outputs": [
    {
     "name": "stdout",
     "output_type": "stream",
     "text": [
      "(2, 3)\n",
      "(2, 2)\n"
     ]
    },
    {
     "ename": "ValueError",
     "evalue": "operands could not be broadcast together with shapes (2,3) (2,2) ",
     "output_type": "error",
     "traceback": [
      "\u001b[0;31m---------------------------------------------------------------------------\u001b[0m",
      "\u001b[0;31mValueError\u001b[0m                                Traceback (most recent call last)",
      "\u001b[0;32m<ipython-input-36-b8fafd5a6b10>\u001b[0m in \u001b[0;36m<module>\u001b[0;34m\u001b[0m\n\u001b[1;32m      5\u001b[0m \u001b[0;34m\u001b[0m\u001b[0m\n\u001b[1;32m      6\u001b[0m \u001b[0;31m# Raises error\u001b[0m\u001b[0;34m\u001b[0m\u001b[0;34m\u001b[0m\u001b[0;34m\u001b[0m\u001b[0m\n\u001b[0;32m----> 7\u001b[0;31m \u001b[0mh\u001b[0m \u001b[0;34m+\u001b[0m \u001b[0mi\u001b[0m\u001b[0;34m\u001b[0m\u001b[0;34m\u001b[0m\u001b[0m\n\u001b[0m",
      "\u001b[0;31mValueError\u001b[0m: operands could not be broadcast together with shapes (2,3) (2,2) "
     ]
    }
   ],
   "source": [
    "h = np.random.random((2, 3))\n",
    "i = np.random.random((2, 2))\n",
    "print(h.shape)\n",
    "print(i.shape)\n",
    "\n",
    "# Raises error\n",
    "h + i"
   ]
  },
  {
   "cell_type": "markdown",
   "metadata": {},
   "source": [
    "### Converting between NumPy and PyTorch"
   ]
  },
  {
   "cell_type": "code",
   "execution_count": 37,
   "metadata": {},
   "outputs": [
    {
     "name": "stdout",
     "output_type": "stream",
     "text": [
      "tensor([[0.0202, 0.8326, 0.7782, 0.8700, 0.9786],\n",
      "        [0.7992, 0.4615, 0.7805, 0.1183, 0.6399],\n",
      "        [0.1434, 0.9447, 0.5218, 0.4147, 0.2646],\n",
      "        [0.7742, 0.4562, 0.5684, 0.0188, 0.6176],\n",
      "        [0.6121, 0.6169, 0.9437, 0.6818, 0.3595]], dtype=torch.float64)\n",
      "\n",
      "[[0.6826141  0.3051495  0.46354562 0.45498633 0.572472  ]\n",
      " [0.4980026  0.93708336 0.65559506 0.31379688 0.19801933]\n",
      " [0.41619217 0.28432965 0.33977574 0.5239408  0.7980639 ]\n",
      " [0.77176833 0.01122457 0.80996025 0.63968194 0.97427773]\n",
      " [0.8300299  0.04443115 0.0245958  0.25883394 0.93905586]]\n"
     ]
    }
   ],
   "source": [
    "arr_np = np.random.random((5, 5))\n",
    "arr_th = torch.rand((5, 5))\n",
    "\n",
    "# From numpy\n",
    "torch.Tensor(arr_np)\n",
    "print(torch.from_numpy(arr_np))\n",
    "\n",
    "# To numpy\n",
    "print()\n",
    "print(arr_th.numpy())\n"
   ]
  },
  {
   "cell_type": "markdown",
   "metadata": {},
   "source": [
    "### Autograd basics"
   ]
  },
  {
   "cell_type": "code",
   "execution_count": 38,
   "metadata": {},
   "outputs": [
    {
     "name": "stdout",
     "output_type": "stream",
     "text": [
      "tensor([[ 0.0457,  0.1530, -0.4757, -1.8821, -0.7765],\n",
      "        [ 2.0242, -0.0865,  0.0981, -1.0373,  1.5748],\n",
      "        [-0.6298,  2.4070,  0.2786,  0.2468,  1.1843],\n",
      "        [-0.7282,  0.4415,  1.1651,  2.0154,  0.9837],\n",
      "        [ 0.8793, -1.4504, -1.1802,  0.4100,  0.4085],\n",
      "        [ 0.2579,  1.0950,  1.3264,  0.8547, -0.2805],\n",
      "        [ 0.7000, -1.4567,  1.6089,  0.0938, -1.2597]], requires_grad=True)\n",
      "tensor(-2.0194, grad_fn=<SumBackward0>)\n"
     ]
    }
   ],
   "source": [
    "W = torch.randn((7, 5), requires_grad=True)\n",
    "x = torch.randn(5)\n",
    "x = torch.matmul(W, x)\n",
    "z = x.sum()\n",
    "print(W)\n",
    "print(z)"
   ]
  },
  {
   "cell_type": "code",
   "execution_count": 39,
   "metadata": {},
   "outputs": [],
   "source": [
    "z.backward()"
   ]
  },
  {
   "cell_type": "code",
   "execution_count": 40,
   "metadata": {},
   "outputs": [
    {
     "data": {
      "text/plain": [
       "tensor([[-0.6842,  0.4533,  0.2912, -0.8317, -0.5525],\n",
       "        [-0.6842,  0.4533,  0.2912, -0.8317, -0.5525],\n",
       "        [-0.6842,  0.4533,  0.2912, -0.8317, -0.5525],\n",
       "        [-0.6842,  0.4533,  0.2912, -0.8317, -0.5525],\n",
       "        [-0.6842,  0.4533,  0.2912, -0.8317, -0.5525],\n",
       "        [-0.6842,  0.4533,  0.2912, -0.8317, -0.5525],\n",
       "        [-0.6842,  0.4533,  0.2912, -0.8317, -0.5525]])"
      ]
     },
     "execution_count": 40,
     "metadata": {},
     "output_type": "execute_result"
    }
   ],
   "source": [
    "W.grad"
   ]
  },
  {
   "cell_type": "code",
   "execution_count": 57,
   "metadata": {},
   "outputs": [
    {
     "name": "stdout",
     "output_type": "stream",
     "text": [
      "tensor([[  6.7231,   3.5335,  -1.3335,  -1.3048,  -2.5915],\n",
      "        [ -3.2568, -20.7820,   6.7784,   3.9517, -11.0425],\n",
      "        [  7.4503,  -2.3704,  -1.1144,   1.2948,  -2.1896],\n",
      "        [  8.3272, -23.1740,   0.5941,   9.7471,  -2.0862],\n",
      "        [ 20.4262,  -9.5605,  -7.5657,   9.5393,   7.7173]])\n"
     ]
    }
   ],
   "source": [
    "# Another example involving differentiating through a for-loop\n",
    "W = torch.randn((5, 5), requires_grad=True)\n",
    "x = torch.randn(5)\n",
    "for i in range(3):\n",
    "    x = torch.matmul(W, x)\n",
    "z = x.sum()\n",
    "z.backward()\n",
    "print(W.grad)"
   ]
  },
  {
   "cell_type": "code",
   "execution_count": null,
   "metadata": {},
   "outputs": [],
   "source": []
  }
 ],
 "metadata": {
  "kernelspec": {
   "display_name": "Python 3",
   "language": "python",
   "name": "python3"
  },
  "language_info": {
   "codemirror_mode": {
    "name": "ipython",
    "version": 3
   },
   "file_extension": ".py",
   "mimetype": "text/x-python",
   "name": "python",
   "nbconvert_exporter": "python",
   "pygments_lexer": "ipython3",
   "version": "3.7.1"
  }
 },
 "nbformat": 4,
 "nbformat_minor": 2
}
