{
 "cells": [
  {
   "cell_type": "markdown",
   "metadata": {},
   "source": [
    "# Implementing and training a one hidden layer fully-connected network to classify MNIST digits using PyTorch."
   ]
  },
  {
   "cell_type": "markdown",
   "metadata": {},
   "source": [
    "This notebook illustrates how we would iterate through the following workflow in PyTorch:\n",
    "* Defining a model\n",
    "* Fetching batches of training data\n",
    "* Obtaining model predictions\n",
    "* Computing the loss\n",
    "* Computing gradient of the loss wrt model parameters\n",
    "* Updating the model parameters using some gradient-based optimization method.\n",
    "\n",
    "Acknowledgments: based on official PyTorch tutorials."
   ]
  },
  {
   "cell_type": "code",
   "execution_count": 2,
   "metadata": {},
   "outputs": [
    {
     "data": {
      "text/plain": [
       "<torch._C.Generator at 0x11cf41c50>"
      ]
     },
     "execution_count": 2,
     "metadata": {},
     "output_type": "execute_result"
    }
   ],
   "source": [
    "import numpy as np\n",
    "import matplotlib.pyplot as plt\n",
    "\n",
    "import torch\n",
    "import torch.nn as nn\n",
    "import torch.nn.functional as F\n",
    "import torch.optim as optim\n",
    "from torch.utils.data import Dataset, DataLoader\n",
    "from torchvision import datasets, transforms\n",
    "\n",
    "# You should set a random seed to ensure that your results are reproducible.\n",
    "torch.manual_seed(0)"
   ]
  },
  {
   "cell_type": "markdown",
   "metadata": {},
   "source": [
    "### Defining a model\n",
    "\n",
    "It's usually a good idea to define your model as classes which inherit from `nn.Module`. The parameters of any submodules of the `torch.nn` module that you declare attributes of the class (e.g. `nn.Linear` below) will automatically be registered as parameters of your model, which will prove to be convenient when constructing an optimizer, as we shall see below."
   ]
  },
  {
   "cell_type": "code",
   "execution_count": 3,
   "metadata": {},
   "outputs": [],
   "source": [
    "class OneHiddenLayerMNISTClassifier(nn.Module):\n",
    "    # Define entities containing model weights in the constructor.\n",
    "    def __init__(self, n_hidden):\n",
    "        super().__init__()\n",
    "        self.linear1 = nn.Linear(\n",
    "            in_features=784, out_features=n_hidden, bias=True\n",
    "        )\n",
    "        self.linear2 = nn.Linear(\n",
    "            in_features=n_hidden, out_features=10, bias=True\n",
    "        )\n",
    "\n",
    "    # Then, all you need to do is implement a `forward` method to define the\n",
    "    # computation that takes place on the forward pass. A corresponding\n",
    "    # `backward` method, which computes gradients, is automatically defined!\n",
    "    def forward(self, inputs):\n",
    "        h = self.linear1(inputs.view(-1, 784))\n",
    "        h = F.relu(h)\n",
    "        h = self.linear2(h)\n",
    "        return F.log_softmax(h, dim=1)"
   ]
  },
  {
   "cell_type": "markdown",
   "metadata": {},
   "source": [
    "We'll also define some utility functions that perform a single iteration of training and evalution:"
   ]
  },
  {
   "cell_type": "code",
   "execution_count": 4,
   "metadata": {},
   "outputs": [],
   "source": [
    "def train(model, train_loader, optimizer, epoch, log_interval=100):\n",
    "    \"\"\"\n",
    "    A utility function that performs a basic training loop.\n",
    "\n",
    "    For each batch in the training set, fetched using `train_loader`:\n",
    "        - Zeroes the gradient used by `optimizer`\n",
    "        - Performs forward pass through `model` on the given batch\n",
    "        - Computes loss on batch\n",
    "        - Performs backward pass\n",
    "        - `optimizer` updates model parameters using computed gradient\n",
    "\n",
    "    Prints the training loss on the current batch every `log_interval` batches.\n",
    "    \"\"\"\n",
    "    for batch_idx, (inputs, targets) in enumerate(train_loader):\n",
    "        # Zeroes the gradient used by `optimizer`; NOTE: if this is not done,\n",
    "        # then gradients will be accumulated across batches!\n",
    "        optimizer.zero_grad()\n",
    "\n",
    "        # Performs forward pass through `model` on the given batch; equivalent\n",
    "        # to `model.forward(inputs)`. Any information needed to compute\n",
    "        # gradients is automatically thanks to autograd running under the hood.\n",
    "        outputs = model(inputs)\n",
    "\n",
    "        # Computes loss on batch; `F.nll_loss` computes the mean negative log-\n",
    "        # likelihood on the batch.\n",
    "        loss = F.nll_loss(outputs, targets)\n",
    "\n",
    "        # Performs backward pass; steps backward through the computation graph,\n",
    "        # computing the gradient of the loss wrt model parameters.\n",
    "        loss.backward()\n",
    "\n",
    "        # `optimizer` updates model parameters using computed gradient.\n",
    "        optimizer.step()\n",
    "\n",
    "        # Prints the training loss on the current batch every `log_interval`\n",
    "        # batches.\n",
    "        if batch_idx % log_interval == 0:\n",
    "            print(\n",
    "                \"Train Epoch: {:02d} -- Batch: {:03d} -- Loss: {:.4f}\".format(\n",
    "                    epoch,\n",
    "                    batch_idx,\n",
    "                    # Calling `loss.item()` returns the scalar loss as a Python\n",
    "                    # number.\n",
    "                    loss.item(),\n",
    "                )\n",
    "            )\n",
    "\n",
    "\n",
    "def test(model, test_loader):\n",
    "    \"\"\"\n",
    "    A utility function to compute the loss and accuracy on a test set by\n",
    "    iterating through the test set using the provided `test_loader` and\n",
    "    accumulating the loss and accuracy on each batch.\n",
    "    \"\"\"\n",
    "    test_loss = 0.0\n",
    "    correct = 0\n",
    "\n",
    "    # You should use the `torch.no_grad()` context when you want to perform a\n",
    "    # forward pass but do not need gradients. This effectively disables\n",
    "    # autograd and results in less resources being used to perform the forward\n",
    "    # pass (since information needed to compute gradients is not logged).\n",
    "    with torch.no_grad():\n",
    "        for inputs, targets in test_loader:\n",
    "            outputs = model(inputs)\n",
    "            # We use `reduction=\"sum\"` to aggregate losses across batches using\n",
    "            # summation instead of taking the mean - we will take the mean at\n",
    "            # the end once we have accumulated all the losses.\n",
    "            test_loss += F.nll_loss(outputs, targets, reduction=\"sum\").item()\n",
    "            pred = outputs.argmax(dim=1, keepdim=True)\n",
    "            correct += pred.eq(targets.view_as(pred)).sum().item()\n",
    "\n",
    "    test_loss /= len(test_loader.dataset)\n",
    "\n",
    "    print(\n",
    "        \"\\nTest set: Average loss: {:.4f}, Accuracy: {:.4f}\\n\".format(\n",
    "            test_loss, correct / len(test_loader.dataset)\n",
    "        )\n",
    "    )"
   ]
  },
  {
   "cell_type": "markdown",
   "metadata": {},
   "source": [
    "### Fetching data\n",
    "\n",
    "* https://pytorch.org/docs/stable/data.html\n",
    "* https://pytorch.org/tutorials/beginner/data_loading_tutorial.html"
   ]
  },
  {
   "cell_type": "code",
   "execution_count": 5,
   "metadata": {},
   "outputs": [
    {
     "name": "stdout",
     "output_type": "stream",
     "text": [
      "tensor(5)\n",
      "torch.Size([1, 28, 28])\n"
     ]
    },
    {
     "data": {
      "image/png": "[encoded data removed]",
      "text/plain": [
       "<Figure size 432x288 with 1 Axes>"
      ]
     },
     "metadata": {
      "needs_background": "light"
     },
     "output_type": "display_data"
    }
   ],
   "source": [
    "transform = transforms.Compose(\n",
    "    [transforms.ToTensor(), transforms.Normalize((0.1307,), (0.3081,))]\n",
    ")\n",
    "\n",
    "train_dat = datasets.MNIST(\n",
    "    \"data/\", train=True, download=True, transform=transform\n",
    ")\n",
    "test_dat = datasets.MNIST(\"data/\", train=False, transform=transform)\n",
    "\n",
    "sample_image, sample_target = train_dat[0]\n",
    "\n",
    "print(sample_target)\n",
    "plt.imshow(sample_image.squeeze(), cmap='gray')\n",
    "\n",
    "print(sample_image.shape)"
   ]
  },
  {
   "cell_type": "code",
   "execution_count": 6,
   "metadata": {},
   "outputs": [
    {
     "name": "stdout",
     "output_type": "stream",
     "text": [
      "torch.Size([64, 1, 28, 28]) torch.Size([64]) \n",
      "\n",
      "tensor([[[[-0.4242, -0.4242, -0.4242,  ..., -0.4242, -0.4242, -0.4242],\n",
      "          [-0.4242, -0.4242, -0.4242,  ..., -0.4242, -0.4242, -0.4242],\n",
      "          [-0.4242, -0.4242, -0.4242,  ..., -0.4242, -0.4242, -0.4242],\n",
      "          ...,\n",
      "          [-0.4242, -0.4242, -0.4242,  ..., -0.4242, -0.4242, -0.4242],\n",
      "          [-0.4242, -0.4242, -0.4242,  ..., -0.4242, -0.4242, -0.4242],\n",
      "          [-0.4242, -0.4242, -0.4242,  ..., -0.4242, -0.4242, -0.4242]]],\n",
      "\n",
      "\n",
      "        [[[-0.4242, -0.4242, -0.4242,  ..., -0.4242, -0.4242, -0.4242],\n",
      "          [-0.4242, -0.4242, -0.4242,  ..., -0.4242, -0.4242, -0.4242],\n",
      "          [-0.4242, -0.4242, -0.4242,  ..., -0.4242, -0.4242, -0.4242],\n",
      "          ...,\n",
      "          [-0.4242, -0.4242, -0.4242,  ..., -0.4242, -0.4242, -0.4242],\n",
      "          [-0.4242, -0.4242, -0.4242,  ..., -0.4242, -0.4242, -0.4242],\n",
      "          [-0.4242, -0.4242, -0.4242,  ..., -0.4242, -0.4242, -0.4242]]],\n",
      "\n",
      "\n",
      "        [[[-0.4242, -0.4242, -0.4242,  ..., -0.4242, -0.4242, -0.4242],\n",
      "          [-0.4242, -0.4242, -0.4242,  ..., -0.4242, -0.4242, -0.4242],\n",
      "          [-0.4242, -0.4242, -0.4242,  ..., -0.4242, -0.4242, -0.4242],\n",
      "          ...,\n",
      "          [-0.4242, -0.4242, -0.4242,  ..., -0.4242, -0.4242, -0.4242],\n",
      "          [-0.4242, -0.4242, -0.4242,  ..., -0.4242, -0.4242, -0.4242],\n",
      "          [-0.4242, -0.4242, -0.4242,  ..., -0.4242, -0.4242, -0.4242]]],\n",
      "\n",
      "\n",
      "        ...,\n",
      "\n",
      "\n",
      "        [[[-0.4242, -0.4242, -0.4242,  ..., -0.4242, -0.4242, -0.4242],\n",
      "          [-0.4242, -0.4242, -0.4242,  ..., -0.4242, -0.4242, -0.4242],\n",
      "          [-0.4242, -0.4242, -0.4242,  ..., -0.4242, -0.4242, -0.4242],\n",
      "          ...,\n",
      "          [-0.4242, -0.4242, -0.4242,  ..., -0.4242, -0.4242, -0.4242],\n",
      "          [-0.4242, -0.4242, -0.4242,  ..., -0.4242, -0.4242, -0.4242],\n",
      "          [-0.4242, -0.4242, -0.4242,  ..., -0.4242, -0.4242, -0.4242]]],\n",
      "\n",
      "\n",
      "        [[[-0.4242, -0.4242, -0.4242,  ..., -0.4242, -0.4242, -0.4242],\n",
      "          [-0.4242, -0.4242, -0.4242,  ..., -0.4242, -0.4242, -0.4242],\n",
      "          [-0.4242, -0.4242, -0.4242,  ..., -0.4242, -0.4242, -0.4242],\n",
      "          ...,\n",
      "          [-0.4242, -0.4242, -0.4242,  ..., -0.4242, -0.4242, -0.4242],\n",
      "          [-0.4242, -0.4242, -0.4242,  ..., -0.4242, -0.4242, -0.4242],\n",
      "          [-0.4242, -0.4242, -0.4242,  ..., -0.4242, -0.4242, -0.4242]]],\n",
      "\n",
      "\n",
      "        [[[-0.4242, -0.4242, -0.4242,  ..., -0.4242, -0.4242, -0.4242],\n",
      "          [-0.4242, -0.4242, -0.4242,  ..., -0.4242, -0.4242, -0.4242],\n",
      "          [-0.4242, -0.4242, -0.4242,  ..., -0.4242, -0.4242, -0.4242],\n",
      "          ...,\n",
      "          [-0.4242, -0.4242, -0.4242,  ..., -0.4242, -0.4242, -0.4242],\n",
      "          [-0.4242, -0.4242, -0.4242,  ..., -0.4242, -0.4242, -0.4242],\n",
      "          [-0.4242, -0.4242, -0.4242,  ..., -0.4242, -0.4242, -0.4242]]]])\n",
      "tensor([5, 6, 5, 8, 9, 3, 8, 0, 5, 4, 1, 5, 1, 3, 2, 2, 7, 6, 4, 0, 3, 8, 5, 6,\n",
      "        6, 2, 1, 1, 8, 3, 1, 0, 7, 1, 3, 3, 2, 7, 3, 2, 3, 3, 2, 0, 5, 3, 7, 5,\n",
      "        2, 3, 9, 7, 5, 2, 2, 8, 7, 3, 6, 1, 1, 7, 2, 1])\n"
     ]
    }
   ],
   "source": [
    "# Create dataloaders\n",
    "train_loader = DataLoader(train_dat, batch_size=64, shuffle=True)\n",
    "test_loader = DataLoader(test_dat, batch_size=1024, shuffle=False)\n",
    "\n",
    "it = iter(train_loader)\n",
    "sample_inputs, sample_targets = next(it)\n",
    "\n",
    "print(sample_inputs.shape, sample_targets.shape, '\\n')\n",
    "print(sample_inputs)\n",
    "print(sample_targets)"
   ]
  },
  {
   "cell_type": "markdown",
   "metadata": {},
   "source": [
    "### Running the training loop"
   ]
  },
  {
   "cell_type": "code",
   "execution_count": 7,
   "metadata": {},
   "outputs": [
    {
     "name": "stdout",
     "output_type": "stream",
     "text": [
      "Train Epoch: 00 -- Batch: 000 -- Loss: 2.2821\n",
      "Train Epoch: 00 -- Batch: 100 -- Loss: 0.8241\n",
      "Train Epoch: 00 -- Batch: 200 -- Loss: 0.3900\n",
      "Train Epoch: 00 -- Batch: 300 -- Loss: 0.4628\n",
      "Train Epoch: 00 -- Batch: 400 -- Loss: 0.3266\n",
      "Train Epoch: 00 -- Batch: 500 -- Loss: 0.4384\n",
      "Train Epoch: 00 -- Batch: 600 -- Loss: 0.2263\n",
      "Train Epoch: 00 -- Batch: 700 -- Loss: 0.2597\n",
      "Train Epoch: 00 -- Batch: 800 -- Loss: 0.2079\n",
      "Train Epoch: 00 -- Batch: 900 -- Loss: 0.3220\n",
      "\n",
      "Test set: Average loss: 0.2766, Accuracy: 0.9202\n",
      "\n",
      "Train Epoch: 01 -- Batch: 000 -- Loss: 0.2297\n",
      "Train Epoch: 01 -- Batch: 100 -- Loss: 0.3962\n",
      "Train Epoch: 01 -- Batch: 200 -- Loss: 0.2237\n",
      "Train Epoch: 01 -- Batch: 300 -- Loss: 0.4056\n",
      "Train Epoch: 01 -- Batch: 400 -- Loss: 0.2697\n",
      "Train Epoch: 01 -- Batch: 500 -- Loss: 0.2849\n",
      "Train Epoch: 01 -- Batch: 600 -- Loss: 0.3127\n",
      "Train Epoch: 01 -- Batch: 700 -- Loss: 0.2081\n",
      "Train Epoch: 01 -- Batch: 800 -- Loss: 0.3599\n",
      "Train Epoch: 01 -- Batch: 900 -- Loss: 0.4672\n",
      "\n",
      "Test set: Average loss: 0.2205, Accuracy: 0.9353\n",
      "\n",
      "Train Epoch: 02 -- Batch: 000 -- Loss: 0.2044\n",
      "Train Epoch: 02 -- Batch: 100 -- Loss: 0.4453\n",
      "Train Epoch: 02 -- Batch: 200 -- Loss: 0.2110\n",
      "Train Epoch: 02 -- Batch: 300 -- Loss: 0.2440\n",
      "Train Epoch: 02 -- Batch: 400 -- Loss: 0.2370\n",
      "Train Epoch: 02 -- Batch: 500 -- Loss: 0.3201\n",
      "Train Epoch: 02 -- Batch: 600 -- Loss: 0.1717\n",
      "Train Epoch: 02 -- Batch: 700 -- Loss: 0.2259\n",
      "Train Epoch: 02 -- Batch: 800 -- Loss: 0.1075\n",
      "Train Epoch: 02 -- Batch: 900 -- Loss: 0.1925\n",
      "\n",
      "Test set: Average loss: 0.1894, Accuracy: 0.9454\n",
      "\n"
     ]
    }
   ],
   "source": [
    "# Create instance of model\n",
    "model = OneHiddenLayerMNISTClassifier(n_hidden=32)\n",
    "\n",
    "# Create instance of optimizer\n",
    "optimizer = optim.SGD(model.parameters(), lr=0.01, momentum=0.5)\n",
    "\n",
    "# Train-test loop\n",
    "for epoch in range(3):\n",
    "    train(model, train_loader, optimizer, epoch)\n",
    "    test(model, test_loader)"
   ]
  },
  {
   "cell_type": "markdown",
   "metadata": {},
   "source": [
    "### Saving and loading model weights"
   ]
  },
  {
   "cell_type": "code",
   "execution_count": null,
   "metadata": {},
   "outputs": [],
   "source": [
    "# Saving / restoring model weights\n",
    "torch.save(model.state_dict(), \"mnist_fc_model.pt\")\n",
    "model.load_state_dict(torch.load(\"mnist_fc_model.pt\"))"
   ]
  },
  {
   "cell_type": "code",
   "execution_count": null,
   "metadata": {},
   "outputs": [],
   "source": []
  }
 ],
 "metadata": {
  "kernelspec": {
   "display_name": "Python 3",
   "language": "python",
   "name": "python3"
  }
 },
 "nbformat": 4,
 "nbformat_minor": 2
}
