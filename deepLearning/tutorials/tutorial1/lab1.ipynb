{
 "cells": [
  {
   "cell_type": "markdown",
   "metadata": {},
   "source": [
    "# Lab Session 1: Environment setup and feedforward networks in PyTorch\n",
    "\n",
    "#### Lab setup instructions\n",
    "\n",
    "We recommend that you work on the Ubuntu workstations in the lab. We cannot guarantee compatibility with Windows machines and cannot promise support if you choose to work on a Windows machine.\n",
    "\n",
    "Once logged in, run the following commands in the terminal to set up a Python environment with all the packages you will need.\n",
    "\n",
    "    export PYTHONUSERBASE=/vol/bitbucket/nuric/pypi\n",
    "    export PATH=/vol/bitbucket/nuric/pypi/bin:$PATH\n",
    "\n",
    "Add the above lines to your `.bashrc` to have these enviroment variables set automatically each time you open your bash terminal.\n",
    "\n",
    "Run `jupyter-notebook` in the directory in which you've cloned the tutorial repo to launch Jupyter notebook in your default browser.\n",
    "\n",
    "This may take a while to run the first time while the packages are cached on your local machine.\n",
    "\n",
    "DO NOT attempt to create a virtualenv in your home folder as you will likely exceed your file quota.\n",
    "\n",
    "#### Google Colaboratory\n",
    "\n",
    "Alternatively, you can use Google Colaboratory, which provides free GPU time.\n",
    "\n",
    "You will need a Google account to do so. Simply log in to your account and go to the following page: https://colab.research.google.com\n",
    "\n",
    "You will need to install a few packages only if you choose to use Colab. Run the following command in a Colab notebook cell to install pytorch:\n",
    "\n",
    "    !pip install torch torchvision"
   ]
  },
  {
   "cell_type": "markdown",
   "metadata": {},
   "source": [
    "#### Instructions\n",
    "\n",
    "Your task is to replicate what was shown in the demonstration: use PyTorch to implement a one-hidden layer neural network to classify MNIST digits.\n",
    "\n",
    "HINT: you may find the following imports useful:\n",
    "\n",
    "    import torch\n",
    "    import torch.nn as nn\n",
    "    import torch.nn.functional as F\n",
    "    import torch.optim as optim\n",
    "    from torch.utils.data import DataLoader\n",
    "    from torchvision import datasets, transforms\n",
    "    \n",
    "Try to consult the PyTorch documentation if you get stuck. We will also be available in the lab to answer questions.\n",
    "\n",
    "Experiment with different hyperparameter settings and optimizers."
   ]
  }
 ],
 "metadata": {
  "kernelspec": {
   "display_name": "Python 3",
   "language": "python",
   "name": "python3"
  },
  "language_info": {
   "codemirror_mode": {
    "name": "ipython",
    "version": 3
   },
   "file_extension": ".py",
   "mimetype": "text/x-python",
   "name": "python",
   "nbconvert_exporter": "python",
   "pygments_lexer": "ipython3",
   "version": "3.6.7"
  }
 },
 "nbformat": 4,
 "nbformat_minor": 2
}
